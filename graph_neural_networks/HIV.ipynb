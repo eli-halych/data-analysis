{
 "cells": [
  {
   "cell_type": "code",
   "execution_count": null,
   "id": "2e181d49",
   "metadata": {},
   "outputs": [],
   "source": [
    "1. Build a custom dataset\n",
    "2. Build a GNN for classification\n",
    "3. Generate molecules with Generative GNN to discover useful HIV inhibitors - drug discovery\n",
    "4. Deploy and visualize in UI with Streamlit\n",
    "5. Explainable AI on Graphs"
   ]
  },
  {
   "cell_type": "code",
   "execution_count": null,
   "id": "36e4b241",
   "metadata": {},
   "outputs": [],
   "source": []
  }
 ],
 "metadata": {
  "kernelspec": {
   "display_name": "data-analysis",
   "language": "python",
   "name": "data-analysis"
  },
  "language_info": {
   "codemirror_mode": {
    "name": "ipython",
    "version": 3
   },
   "file_extension": ".py",
   "mimetype": "text/x-python",
   "name": "python",
   "nbconvert_exporter": "python",
   "pygments_lexer": "ipython3",
   "version": "3.9.16"
  }
 },
 "nbformat": 4,
 "nbformat_minor": 5
}
