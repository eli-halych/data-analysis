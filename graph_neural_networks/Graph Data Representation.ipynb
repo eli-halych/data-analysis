{
 "cells": [
  {
   "cell_type": "markdown",
   "id": "9b99bc49",
   "metadata": {},
   "source": [
    "# Graphs data\n",
    "\n",
    "Simple example\n",
    "\n",
    "TODO:\n",
    "1. Nodes\n",
    "2. Node features\n",
    "3. Edges\n",
    "4. Edge features\n",
    "\n",
    "1. Homogeneous graphs\n",
    "2. Heterogeneous graphs\n",
    "\n",
    "1. Adjacency matrix\n",
    "2. COO\n",
    "3. Adjecency list\n",
    "4. Embeddings\n"
   ]
  },
  {
   "cell_type": "code",
   "execution_count": null,
   "id": "b4859b0f",
   "metadata": {},
   "outputs": [],
   "source": []
  }
 ],
 "metadata": {
  "kernelspec": {
   "display_name": "data-analysis",
   "language": "python",
   "name": "data-analysis"
  },
  "language_info": {
   "codemirror_mode": {
    "name": "ipython",
    "version": 3
   },
   "file_extension": ".py",
   "mimetype": "text/x-python",
   "name": "python",
   "nbconvert_exporter": "python",
   "pygments_lexer": "ipython3",
   "version": "3.9.16"
  }
 },
 "nbformat": 4,
 "nbformat_minor": 5
}
