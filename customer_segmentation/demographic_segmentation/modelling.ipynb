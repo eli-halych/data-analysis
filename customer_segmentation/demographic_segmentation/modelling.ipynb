{
 "cells": [
  {
   "cell_type": "markdown",
   "id": "89e413b4",
   "metadata": {},
   "source": [
    "- [ ] Clustering Algorithms: Use unsupervised learning techniques such as K-means, DBSCAN, or hierarchical clustering to group customers based on their demographic features. This can help identify distinct customer segments and reveal patterns in spending behavior or credit usage.\n",
    "- [ ] Decision Trees: Build a decision tree model to identify the most important demographic features influencing customer behavior or to predict customer churn based on demographic data.\n",
    "- [ ] Association Rule Learning: Apply algorithms like Apriori or Eclat to identify relationships between demographic features and spending behavior, which can be useful in understanding customer preferences and designing targeted marketing campaigns.\n",
    "- [ ] Classification Models: Train classification models like logistic regression, support vector machines, or random forests to predict customer churn or other behavior-based outcomes using demographic data.\n",
    "\n",
    "Remember to preprocess the data and perform feature engineering as needed to ensure optimal model performance."
   ]
  },
  {
   "cell_type": "markdown",
   "id": "20fed4dd",
   "metadata": {},
   "source": [
    "## Business Side"
   ]
  },
  {
   "cell_type": "markdown",
   "id": "919632f5",
   "metadata": {},
   "source": [
    "4 segemntations: hardcoded demantions. you can split them the way you want, like age groups. Or any oither ways based on intuition and industry experience. Why we want to do it?:\n",
    "\n",
    "(ONE) Marketing\n",
    "1. Marketing to reach out to customers for various reasons. One single message doesn't work well for everyone. Thats why reach out to segments.\n",
    "2. Most and least provitable customers.\n",
    "3. Build loyal realtionships with your customers.\n",
    "4. Create personas - an average representative cusotmer. How they'd react etc.\n",
    "\n",
    "Problem: customer base varies a lot. Creating one personas for all cutomers is useless, thats why segmentaiton is better.\n",
    "\n",
    "(TWO)\n",
    "1. Different brands (offers?)\n",
    "2. Differentiate offers and services.\n",
    "\n",
    "(THREE)\n",
    "1. Price products differently\n",
    "\n",
    "\n",
    "(RFM)\n",
    "RFM Recency-Frequency-Monetary Analysis - done by hand. Bad way. Clustering comes in useful to fix that here.\n",
    "\n"
   ]
  },
  {
   "cell_type": "code",
   "execution_count": null,
   "id": "402669aa",
   "metadata": {},
   "outputs": [],
   "source": []
  },
  {
   "cell_type": "markdown",
   "id": "3cf92b1a",
   "metadata": {},
   "source": [
    "### Brainstorming\n",
    "\n",
    "1. Manual data analysis in flawed and inefficient. ML algorithms help to do a more extensive and efficeint job.\n",
    "2. Applying this in MLOps can help businesses keep 'value-generating' (therefor also 'money-generating') products up-tp-date by providing insights for data and model drifts."
   ]
  },
  {
   "cell_type": "code",
   "execution_count": 9,
   "id": "5b2a577a",
   "metadata": {},
   "outputs": [],
   "source": [
    "import numpy as np\n",
    "import pandas as pd\n",
    "import matplotlib.pyplot as plt\n",
    "import seaborn as sns\n",
    "import warnings\n",
    "warnings.filterwarnings(\"ignore\")"
   ]
  },
  {
   "cell_type": "code",
   "execution_count": 57,
   "id": "213b87a9",
   "metadata": {},
   "outputs": [
    {
     "data": {
      "text/html": [
       "<div>\n",
       "<style scoped>\n",
       "    .dataframe tbody tr th:only-of-type {\n",
       "        vertical-align: middle;\n",
       "    }\n",
       "\n",
       "    .dataframe tbody tr th {\n",
       "        vertical-align: top;\n",
       "    }\n",
       "\n",
       "    .dataframe thead th {\n",
       "        text-align: right;\n",
       "    }\n",
       "</style>\n",
       "<table border=\"1\" class=\"dataframe\">\n",
       "  <thead>\n",
       "    <tr style=\"text-align: right;\">\n",
       "      <th></th>\n",
       "      <th>age</th>\n",
       "      <th>credit_limit</th>\n",
       "      <th>total_purchase_amt</th>\n",
       "      <th>change_in_purchase_amt</th>\n",
       "      <th>credit_utilization</th>\n",
       "      <th>dependents</th>\n",
       "      <th>total_purchase_ct</th>\n",
       "      <th>change_in_purchase_ct</th>\n",
       "    </tr>\n",
       "  </thead>\n",
       "  <tbody>\n",
       "    <tr>\n",
       "      <th>0</th>\n",
       "      <td>45</td>\n",
       "      <td>12691.0</td>\n",
       "      <td>1144</td>\n",
       "      <td>1.335</td>\n",
       "      <td>0.061</td>\n",
       "      <td>3</td>\n",
       "      <td>42</td>\n",
       "      <td>1.625</td>\n",
       "    </tr>\n",
       "    <tr>\n",
       "      <th>1</th>\n",
       "      <td>49</td>\n",
       "      <td>8256.0</td>\n",
       "      <td>1291</td>\n",
       "      <td>1.541</td>\n",
       "      <td>0.105</td>\n",
       "      <td>5</td>\n",
       "      <td>33</td>\n",
       "      <td>3.714</td>\n",
       "    </tr>\n",
       "  </tbody>\n",
       "</table>\n",
       "</div>"
      ],
      "text/plain": [
       "   age  credit_limit  total_purchase_amt  change_in_purchase_amt  \\\n",
       "0   45       12691.0                1144                   1.335   \n",
       "1   49        8256.0                1291                   1.541   \n",
       "\n",
       "   credit_utilization  dependents  total_purchase_ct  change_in_purchase_ct  \n",
       "0               0.061           3                 42                  1.625  \n",
       "1               0.105           5                 33                  3.714  "
      ]
     },
     "execution_count": 57,
     "metadata": {},
     "output_type": "execute_result"
    }
   ],
   "source": [
    "df = pd.read_csv('./data/BankChurners.csv')\n",
    "\n",
    "# standardize column names & remove unnecessary columns\n",
    "column_renames = {\n",
    "    'CLIENTNUM': 'client_id',\n",
    "    'Attrition_Flag': 'churn_status',\n",
    "    'Customer_Age': 'age',\n",
    "    'Gender': 'gender',\n",
    "    'Dependent_count': 'dependents',\n",
    "    'Education_Level': 'education_level',\n",
    "    'Marital_Status': 'marital_status',\n",
    "    'Income_Category': 'income_category',\n",
    "    'Card_Category': 'card_category',\n",
    "    'Months_on_book': 'months_on_book',\n",
    "    'Total_Relationship_Count': 'total_relationships',\n",
    "    'Months_Inactive_12_mon': 'months_inactive',\n",
    "    'Contacts_Count_12_mon': 'contacts',\n",
    "    'Credit_Limit': 'credit_limit',\n",
    "    'Total_Revolving_Bal': 'revolving_balance',\n",
    "    'Avg_Open_To_Buy': 'available_credit',\n",
    "    'Total_Amt_Chng_Q4_Q1': 'change_in_purchase_amt',\n",
    "    'Total_Trans_Amt': 'total_purchase_amt',\n",
    "    'Total_Trans_Ct': 'total_purchase_ct',\n",
    "    'Total_Ct_Chng_Q4_Q1': 'change_in_purchase_ct',\n",
    "    'Avg_Utilization_Ratio': 'credit_utilization',\n",
    "    'Naive_Bayes_Classifier_Attrition_Flag_Card_Category_Contacts_Count_12_mon_Dependent_count_Education_Level_Months_Inactive_12_mon_1': 'naive_bayes_1',\n",
    "    'Naive_Bayes_Classifier_Attrition_Flag_Card_Category_Contacts_Count_12_mon_Dependent_count_Education_Level_Months_Inactive_12_mon_2': 'naive_bayes_2'\n",
    "}\n",
    "\n",
    "needed_columns = ['age', 'credit_limit', 'total_purchase_amt', 'change_in_purchase_amt', 'credit_utilization', 'dependents', 'total_purchase_ct', 'change_in_purchase_ct']\n",
    "\n",
    "df = df.rename(columns=column_renames)\n",
    "df = df[needed_columns]\n",
    "\n",
    "df.head(2)"
   ]
  }
 ],
 "metadata": {
  "kernelspec": {
   "display_name": "data-analysis",
   "language": "python",
   "name": "data-analysis"
  },
  "language_info": {
   "codemirror_mode": {
    "name": "ipython",
    "version": 3
   },
   "file_extension": ".py",
   "mimetype": "text/x-python",
   "name": "python",
   "nbconvert_exporter": "python",
   "pygments_lexer": "ipython3",
   "version": "3.9.16"
  }
 },
 "nbformat": 4,
 "nbformat_minor": 5
}
